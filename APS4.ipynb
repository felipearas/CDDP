{
 "cells": [
  {
   "cell_type": "markdown",
   "metadata": {},
   "source": [
    " ___\n",
    "# Atividade: Modelos probabilísticos discretos\n",
    "___\n",
    "\n",
    "## Aula 12\n",
    "\n",
    "**Referência de Leitura:**\n",
    "1. Magalhães e Lima (7ª. Edição): Seções 3.2 e 3.3\n",
    "\n",
    "**Hoje:**\n",
    "1.\tDescrever modelos discretos quanto aos resultados teóricos.\n",
    "2.\tExplicar a utilização de modelos probabilísticos no contexto da literatura estatística.\n",
    "3.\tContrastar resultados teóricos e empíricos.\n",
    "4.\tFechamento do conteúdo.\n",
    "\n",
    "**Próxima aula:**\n",
    "1. Leitura prévia necessária: Magalhães e Lima (7ª. Edição): Capítulo 6 - Seção 6.1.\n",
    "\n",
    "___"
   ]
  },
  {
   "cell_type": "code",
   "execution_count": 4,
   "metadata": {
    "collapsed": true
   },
   "outputs": [],
   "source": [
    "%matplotlib inline\n",
    "import pandas as pd\n",
    "import matplotlib.pyplot as plt\n",
    "\n",
    "from scipy import stats #importa apenas as funções de estatísticas da biblioteca SciPy.\n",
    "import itertools #importante para gerar todos os resultados possíveis!!\n"
   ]
  },
  {
   "cell_type": "markdown",
   "metadata": {},
   "source": [
    "___\n",
    "## <font color='blue'>Exercício 1</font>\n",
    "\n",
    "### <font color='red'>**Publicar no github até dia 10/04 INDIVIDUAL **</font>\n",
    "\n",
    "\n",
    "#### Este exercício irá explorar  construção de árvore de probabilidades com eventos e construção da distribuição de probabilidades de uma variável aleatória discreta. Ainda, irá explorar o modelo de distribuição probabilística Binomial\n",
    "\n",
    "Um resistor de 100K Ohms comprado na Santa Efigênia tem probabilidade de falha de 5%, segundo um fabricante ruim.\n",
    "\n",
    "Ainda, por suposição, admita que os resistores falhem de forma independente entre si.\n",
    "\n",
    "Um aluno de engenharia compra um pacote contendo $n$ resistores.\n",
    "\n",
    "1. Assuma $n=3$ e faça os itens a seguir.\n",
    "  1. Monte o espaço amostral que combine todos os resultados possíveis de Falha e não Falha desses $n$ resistores. Ainda, calcule a probabilidade de cada resultado do espaço amostral acontecer.\n",
    "  2. Se $Y$ representa o número de resistores que falham em um pacotinho com $n$ resistores, então construa a distribuição de probabilidades de $Y$.\n",
    "  3. Calcule a média e o desvio padrão de $Y$. Interprete os resultados.\n",
    "  4. Utilizando o modelo probabilístico da distribuição Binomial, encontre a distribuição de probabilidades de cada possível valor de $Y$. Calcule também $E(Y)$ e $Var(Y)$. Compare com as distribuições de probabilidades obtidas nos itens anteriores e discuta porque esses valores são iguais ou diferentes!\n",
    "   \n",
    "2. Assuma $n=7$ e repita os itens A) a D) anteriores. No caso de $n=7$ ou maiores quantidades de resistores em um pacotinho, qual a viabilidade de construir a distribuição de probabilidades do número de resistores com defeitos quando $n$ não é pequeno seguindo os itens de A) a C)?\n",
    " \n",
    "3. Com $n=100$, por exemplo, é extremamente inviável a construção de árvore de probabilidades até mesmo utilizando a poderosa ferramenta Python. \n",
    "  1. No caso assuma $n=100$ e repita o item 1.D) anterior. \n",
    "  2. Ainda, calcule a probabilidade de, em um pacote com 100 resistores, pelo menos a metade deles apresentarem falha?\n",
    "\n",
    "\n",
    "A seguir, um resumo sobre o modelo teórico Binomial!    \n",
    "> \n",
    "\n",
    "> **DISTRIBUIÇÃO BINOMIAL - TEORIA:**\n",
    "\n",
    "> É responsável por modelar uma variável $Y$ definida pelo Número de sucessos em $n$ tentativas, cuja probabilidade de sucesso é dada por $p$. Assim, dizemos que $Y$~$Bin(n,p)$ e lê-se: $Y$ segue uma distribuição binomial com $n$ tentativas e $p$ como probabilidade de sucesso. \n",
    "\n",
    "> A função de probabilidade nesse caso é dada por:\n",
    "$P(Y=y)=\\left(\n",
    "\\begin{array}{c}\n",
    "    n \\\\\n",
    "    y\n",
    "\\end{array}\\right) p^y (1-p)^{(n-y)}$\n",
    "\n",
    "> Para um experimento ter as probabilidade dos números de sucessos modeladas por uma distribuição Binomial, o mesmo precisa ter as seguintes propriedades:\n",
    "* é uma contagem de $n$ repetições (ou tentativas ou ensaios) idênticas;\n",
    "* cada repetição tem apenas 2 resultados possíveis: um é denominado sucesso e o outro, fracasso;\n",
    "* a probabilidade de sucesso para cada ensaio é denominada $p$ e será constante em cada repetição. Então, a probabilidade de fracasso $(1-p)$ também não varia de tentativa para tentativa;\n",
    "* As tentativas são independentes.\n",
    "\n",
    "\n",
    "> **DISTRIBUIÇÃO BINOMIAL - PYTHON:** <sup> [https://en.wikipedia.org/wiki/SciPy]\n",
    "\n",
    "> Algumas funções úteis para desenvolver seu código: <sup> [http://docs.scipy.org/doc/scipy-0.16.1/reference/generated/scipy.stats.binom.html]\n",
    "* $P(Y=y)$: `stats.binom.pmf(y, n, p)`\n",
    "* $P(Y\\leq y)$: `stats.binom.cdf(y, n, p)`\n",
    "* $E(Y)$ e $Var(Y)$: `stats.binom.stats(n, p, moments='mv')`\n",
    "\n"
   ]
  },
  {
   "cell_type": "code",
   "execution_count": 36,
   "metadata": {},
   "outputs": [
    {
     "name": "stdout",
     "output_type": "stream",
     "text": [
      "Probabilidade de acontecer  ('S', 'S', 'S')  é igual a  0.85737\n",
      "Probabilidade de acontecer  ('S', 'S', 'F')  é igual a  0.04512\n",
      "Probabilidade de acontecer  ('S', 'F', 'S')  é igual a  0.04512\n",
      "Probabilidade de acontecer  ('S', 'F', 'F')  é igual a  0.00238\n",
      "Probabilidade de acontecer  ('F', 'S', 'S')  é igual a  0.04512\n",
      "Probabilidade de acontecer  ('F', 'S', 'F')  é igual a  0.00238\n",
      "Probabilidade de acontecer  ('F', 'F', 'S')  é igual a  0.00238\n",
      "Probabilidade de acontecer  ('F', 'F', 'F')  é igual a  0.00013\n"
     ]
    }
   ],
   "source": [
    "#item 1\n",
    "\n",
    "n=3\n",
    "        \n",
    "sf = [\"S\", \"F\"]\n",
    "probabilidade = {\"S\": 0.95, \"F\":0.05}\n",
    "itertooing = itertools.product(sf, repeat=n)\n",
    "e_a = list(itertooing)\n",
    "\n",
    "probabilidades = []\n",
    "\n",
    "for ser in e_a:\n",
    "    p = 1.0\n",
    "    for e in ser:\n",
    "        p*=probabilidade[e]\n",
    "    probabilidades.append(p)\n",
    "    print(\"Probabilidade de acontecer \",ser,\" é igual a \",\"%3.5f\"%p)          \n",
    "\n"
   ]
  },
  {
   "cell_type": "code",
   "execution_count": 57,
   "metadata": {},
   "outputs": [
    {
     "name": "stdout",
     "output_type": "stream",
     "text": [
      "0.857375\n",
      "0.135375\n",
      "0.007125000000000007\n"
     ]
    }
   ],
   "source": [
    "arex = []\n",
    "\n",
    "for alex in range(0,3):\n",
    "    statsb = stats.binom.pmf(alex, 3, 0.05)\n",
    "    arex.append(statsb)\n",
    "    print(statsb)"
   ]
  },
  {
   "cell_type": "code",
   "execution_count": 44,
   "metadata": {},
   "outputs": [
    {
     "data": {
      "text/plain": [
       "2.8499999999999996"
      ]
     },
     "execution_count": 44,
     "metadata": {},
     "output_type": "execute_result"
    }
   ],
   "source": [
    "mediam = 3*arex[0]+2*arex[1]+1*arex[2]\n",
    "mediam"
   ]
  },
  {
   "cell_type": "code",
   "execution_count": 51,
   "metadata": {},
   "outputs": [
    {
     "data": {
      "text/plain": [
       "(array(0.15), array(0.1425))"
      ]
     },
     "execution_count": 51,
     "metadata": {},
     "output_type": "execute_result"
    }
   ],
   "source": [
    "statsb_2 = stats.binom.stats(3, 0.05, moments='mv')\n",
    "statsb_2"
   ]
  },
  {
   "cell_type": "code",
   "execution_count": 53,
   "metadata": {},
   "outputs": [
    {
     "name": "stdout",
     "output_type": "stream",
     "text": [
      "Média dos resistores que não funcionaram -- 0.15 e a Variância -- 0.1425\n",
      "Desvio padrão = 0.37749172176353746\n"
     ]
    }
   ],
   "source": [
    "print(\"Média dos resistores que não funcionaram -- 0.15 e a Variância -- 0.1425\")\n",
    "\n",
    "dp = 0.1425**(1/2)\n",
    "\n",
    "print(\"Desvio padrão = {0}\".format(dp))"
   ]
  },
  {
   "cell_type": "code",
   "execution_count": 59,
   "metadata": {},
   "outputs": [
    {
     "name": "stdout",
     "output_type": "stream",
     "text": [
      "Probabilidade de acontecer  ('S', 'S', 'S', 'S', 'S', 'S', 'S')  é igual a  0.69834\n",
      "Probabilidade de acontecer  ('S', 'S', 'S', 'S', 'S', 'S', 'F')  é igual a  0.03675\n",
      "Probabilidade de acontecer  ('S', 'S', 'S', 'S', 'S', 'F', 'S')  é igual a  0.03675\n",
      "Probabilidade de acontecer  ('S', 'S', 'S', 'S', 'S', 'F', 'F')  é igual a  0.00193\n",
      "Probabilidade de acontecer  ('S', 'S', 'S', 'S', 'F', 'S', 'S')  é igual a  0.03675\n",
      "Probabilidade de acontecer  ('S', 'S', 'S', 'S', 'F', 'S', 'F')  é igual a  0.00193\n",
      "Probabilidade de acontecer  ('S', 'S', 'S', 'S', 'F', 'F', 'S')  é igual a  0.00193\n",
      "Probabilidade de acontecer  ('S', 'S', 'S', 'S', 'F', 'F', 'F')  é igual a  0.00010\n",
      "Probabilidade de acontecer  ('S', 'S', 'S', 'F', 'S', 'S', 'S')  é igual a  0.03675\n",
      "Probabilidade de acontecer  ('S', 'S', 'S', 'F', 'S', 'S', 'F')  é igual a  0.00193\n",
      "Probabilidade de acontecer  ('S', 'S', 'S', 'F', 'S', 'F', 'S')  é igual a  0.00193\n",
      "Probabilidade de acontecer  ('S', 'S', 'S', 'F', 'S', 'F', 'F')  é igual a  0.00010\n",
      "Probabilidade de acontecer  ('S', 'S', 'S', 'F', 'F', 'S', 'S')  é igual a  0.00193\n",
      "Probabilidade de acontecer  ('S', 'S', 'S', 'F', 'F', 'S', 'F')  é igual a  0.00010\n",
      "Probabilidade de acontecer  ('S', 'S', 'S', 'F', 'F', 'F', 'S')  é igual a  0.00010\n",
      "Probabilidade de acontecer  ('S', 'S', 'S', 'F', 'F', 'F', 'F')  é igual a  0.00001\n",
      "Probabilidade de acontecer  ('S', 'S', 'F', 'S', 'S', 'S', 'S')  é igual a  0.03675\n",
      "Probabilidade de acontecer  ('S', 'S', 'F', 'S', 'S', 'S', 'F')  é igual a  0.00193\n",
      "Probabilidade de acontecer  ('S', 'S', 'F', 'S', 'S', 'F', 'S')  é igual a  0.00193\n",
      "Probabilidade de acontecer  ('S', 'S', 'F', 'S', 'S', 'F', 'F')  é igual a  0.00010\n",
      "Probabilidade de acontecer  ('S', 'S', 'F', 'S', 'F', 'S', 'S')  é igual a  0.00193\n",
      "Probabilidade de acontecer  ('S', 'S', 'F', 'S', 'F', 'S', 'F')  é igual a  0.00010\n",
      "Probabilidade de acontecer  ('S', 'S', 'F', 'S', 'F', 'F', 'S')  é igual a  0.00010\n",
      "Probabilidade de acontecer  ('S', 'S', 'F', 'S', 'F', 'F', 'F')  é igual a  0.00001\n",
      "Probabilidade de acontecer  ('S', 'S', 'F', 'F', 'S', 'S', 'S')  é igual a  0.00193\n",
      "Probabilidade de acontecer  ('S', 'S', 'F', 'F', 'S', 'S', 'F')  é igual a  0.00010\n",
      "Probabilidade de acontecer  ('S', 'S', 'F', 'F', 'S', 'F', 'S')  é igual a  0.00010\n",
      "Probabilidade de acontecer  ('S', 'S', 'F', 'F', 'S', 'F', 'F')  é igual a  0.00001\n",
      "Probabilidade de acontecer  ('S', 'S', 'F', 'F', 'F', 'S', 'S')  é igual a  0.00010\n",
      "Probabilidade de acontecer  ('S', 'S', 'F', 'F', 'F', 'S', 'F')  é igual a  0.00001\n",
      "Probabilidade de acontecer  ('S', 'S', 'F', 'F', 'F', 'F', 'S')  é igual a  0.00001\n",
      "Probabilidade de acontecer  ('S', 'S', 'F', 'F', 'F', 'F', 'F')  é igual a  0.00000\n",
      "Probabilidade de acontecer  ('S', 'F', 'S', 'S', 'S', 'S', 'S')  é igual a  0.03675\n",
      "Probabilidade de acontecer  ('S', 'F', 'S', 'S', 'S', 'S', 'F')  é igual a  0.00193\n",
      "Probabilidade de acontecer  ('S', 'F', 'S', 'S', 'S', 'F', 'S')  é igual a  0.00193\n",
      "Probabilidade de acontecer  ('S', 'F', 'S', 'S', 'S', 'F', 'F')  é igual a  0.00010\n",
      "Probabilidade de acontecer  ('S', 'F', 'S', 'S', 'F', 'S', 'S')  é igual a  0.00193\n",
      "Probabilidade de acontecer  ('S', 'F', 'S', 'S', 'F', 'S', 'F')  é igual a  0.00010\n",
      "Probabilidade de acontecer  ('S', 'F', 'S', 'S', 'F', 'F', 'S')  é igual a  0.00010\n",
      "Probabilidade de acontecer  ('S', 'F', 'S', 'S', 'F', 'F', 'F')  é igual a  0.00001\n",
      "Probabilidade de acontecer  ('S', 'F', 'S', 'F', 'S', 'S', 'S')  é igual a  0.00193\n",
      "Probabilidade de acontecer  ('S', 'F', 'S', 'F', 'S', 'S', 'F')  é igual a  0.00010\n",
      "Probabilidade de acontecer  ('S', 'F', 'S', 'F', 'S', 'F', 'S')  é igual a  0.00010\n",
      "Probabilidade de acontecer  ('S', 'F', 'S', 'F', 'S', 'F', 'F')  é igual a  0.00001\n",
      "Probabilidade de acontecer  ('S', 'F', 'S', 'F', 'F', 'S', 'S')  é igual a  0.00010\n",
      "Probabilidade de acontecer  ('S', 'F', 'S', 'F', 'F', 'S', 'F')  é igual a  0.00001\n",
      "Probabilidade de acontecer  ('S', 'F', 'S', 'F', 'F', 'F', 'S')  é igual a  0.00001\n",
      "Probabilidade de acontecer  ('S', 'F', 'S', 'F', 'F', 'F', 'F')  é igual a  0.00000\n",
      "Probabilidade de acontecer  ('S', 'F', 'F', 'S', 'S', 'S', 'S')  é igual a  0.00193\n",
      "Probabilidade de acontecer  ('S', 'F', 'F', 'S', 'S', 'S', 'F')  é igual a  0.00010\n",
      "Probabilidade de acontecer  ('S', 'F', 'F', 'S', 'S', 'F', 'S')  é igual a  0.00010\n",
      "Probabilidade de acontecer  ('S', 'F', 'F', 'S', 'S', 'F', 'F')  é igual a  0.00001\n",
      "Probabilidade de acontecer  ('S', 'F', 'F', 'S', 'F', 'S', 'S')  é igual a  0.00010\n",
      "Probabilidade de acontecer  ('S', 'F', 'F', 'S', 'F', 'S', 'F')  é igual a  0.00001\n",
      "Probabilidade de acontecer  ('S', 'F', 'F', 'S', 'F', 'F', 'S')  é igual a  0.00001\n",
      "Probabilidade de acontecer  ('S', 'F', 'F', 'S', 'F', 'F', 'F')  é igual a  0.00000\n",
      "Probabilidade de acontecer  ('S', 'F', 'F', 'F', 'S', 'S', 'S')  é igual a  0.00010\n",
      "Probabilidade de acontecer  ('S', 'F', 'F', 'F', 'S', 'S', 'F')  é igual a  0.00001\n",
      "Probabilidade de acontecer  ('S', 'F', 'F', 'F', 'S', 'F', 'S')  é igual a  0.00001\n",
      "Probabilidade de acontecer  ('S', 'F', 'F', 'F', 'S', 'F', 'F')  é igual a  0.00000\n",
      "Probabilidade de acontecer  ('S', 'F', 'F', 'F', 'F', 'S', 'S')  é igual a  0.00001\n",
      "Probabilidade de acontecer  ('S', 'F', 'F', 'F', 'F', 'S', 'F')  é igual a  0.00000\n",
      "Probabilidade de acontecer  ('S', 'F', 'F', 'F', 'F', 'F', 'S')  é igual a  0.00000\n",
      "Probabilidade de acontecer  ('S', 'F', 'F', 'F', 'F', 'F', 'F')  é igual a  0.00000\n",
      "Probabilidade de acontecer  ('F', 'S', 'S', 'S', 'S', 'S', 'S')  é igual a  0.03675\n",
      "Probabilidade de acontecer  ('F', 'S', 'S', 'S', 'S', 'S', 'F')  é igual a  0.00193\n",
      "Probabilidade de acontecer  ('F', 'S', 'S', 'S', 'S', 'F', 'S')  é igual a  0.00193\n",
      "Probabilidade de acontecer  ('F', 'S', 'S', 'S', 'S', 'F', 'F')  é igual a  0.00010\n",
      "Probabilidade de acontecer  ('F', 'S', 'S', 'S', 'F', 'S', 'S')  é igual a  0.00193\n",
      "Probabilidade de acontecer  ('F', 'S', 'S', 'S', 'F', 'S', 'F')  é igual a  0.00010\n",
      "Probabilidade de acontecer  ('F', 'S', 'S', 'S', 'F', 'F', 'S')  é igual a  0.00010\n",
      "Probabilidade de acontecer  ('F', 'S', 'S', 'S', 'F', 'F', 'F')  é igual a  0.00001\n",
      "Probabilidade de acontecer  ('F', 'S', 'S', 'F', 'S', 'S', 'S')  é igual a  0.00193\n",
      "Probabilidade de acontecer  ('F', 'S', 'S', 'F', 'S', 'S', 'F')  é igual a  0.00010\n",
      "Probabilidade de acontecer  ('F', 'S', 'S', 'F', 'S', 'F', 'S')  é igual a  0.00010\n",
      "Probabilidade de acontecer  ('F', 'S', 'S', 'F', 'S', 'F', 'F')  é igual a  0.00001\n",
      "Probabilidade de acontecer  ('F', 'S', 'S', 'F', 'F', 'S', 'S')  é igual a  0.00010\n",
      "Probabilidade de acontecer  ('F', 'S', 'S', 'F', 'F', 'S', 'F')  é igual a  0.00001\n",
      "Probabilidade de acontecer  ('F', 'S', 'S', 'F', 'F', 'F', 'S')  é igual a  0.00001\n",
      "Probabilidade de acontecer  ('F', 'S', 'S', 'F', 'F', 'F', 'F')  é igual a  0.00000\n",
      "Probabilidade de acontecer  ('F', 'S', 'F', 'S', 'S', 'S', 'S')  é igual a  0.00193\n",
      "Probabilidade de acontecer  ('F', 'S', 'F', 'S', 'S', 'S', 'F')  é igual a  0.00010\n",
      "Probabilidade de acontecer  ('F', 'S', 'F', 'S', 'S', 'F', 'S')  é igual a  0.00010\n",
      "Probabilidade de acontecer  ('F', 'S', 'F', 'S', 'S', 'F', 'F')  é igual a  0.00001\n",
      "Probabilidade de acontecer  ('F', 'S', 'F', 'S', 'F', 'S', 'S')  é igual a  0.00010\n",
      "Probabilidade de acontecer  ('F', 'S', 'F', 'S', 'F', 'S', 'F')  é igual a  0.00001\n",
      "Probabilidade de acontecer  ('F', 'S', 'F', 'S', 'F', 'F', 'S')  é igual a  0.00001\n",
      "Probabilidade de acontecer  ('F', 'S', 'F', 'S', 'F', 'F', 'F')  é igual a  0.00000\n",
      "Probabilidade de acontecer  ('F', 'S', 'F', 'F', 'S', 'S', 'S')  é igual a  0.00010\n",
      "Probabilidade de acontecer  ('F', 'S', 'F', 'F', 'S', 'S', 'F')  é igual a  0.00001\n",
      "Probabilidade de acontecer  ('F', 'S', 'F', 'F', 'S', 'F', 'S')  é igual a  0.00001\n",
      "Probabilidade de acontecer  ('F', 'S', 'F', 'F', 'S', 'F', 'F')  é igual a  0.00000\n",
      "Probabilidade de acontecer  ('F', 'S', 'F', 'F', 'F', 'S', 'S')  é igual a  0.00001\n",
      "Probabilidade de acontecer  ('F', 'S', 'F', 'F', 'F', 'S', 'F')  é igual a  0.00000\n",
      "Probabilidade de acontecer  ('F', 'S', 'F', 'F', 'F', 'F', 'S')  é igual a  0.00000\n",
      "Probabilidade de acontecer  ('F', 'S', 'F', 'F', 'F', 'F', 'F')  é igual a  0.00000\n",
      "Probabilidade de acontecer  ('F', 'F', 'S', 'S', 'S', 'S', 'S')  é igual a  0.00193\n",
      "Probabilidade de acontecer  ('F', 'F', 'S', 'S', 'S', 'S', 'F')  é igual a  0.00010\n",
      "Probabilidade de acontecer  ('F', 'F', 'S', 'S', 'S', 'F', 'S')  é igual a  0.00010\n",
      "Probabilidade de acontecer  ('F', 'F', 'S', 'S', 'S', 'F', 'F')  é igual a  0.00001\n",
      "Probabilidade de acontecer  ('F', 'F', 'S', 'S', 'F', 'S', 'S')  é igual a  0.00010\n",
      "Probabilidade de acontecer  ('F', 'F', 'S', 'S', 'F', 'S', 'F')  é igual a  0.00001\n",
      "Probabilidade de acontecer  ('F', 'F', 'S', 'S', 'F', 'F', 'S')  é igual a  0.00001\n",
      "Probabilidade de acontecer  ('F', 'F', 'S', 'S', 'F', 'F', 'F')  é igual a  0.00000\n",
      "Probabilidade de acontecer  ('F', 'F', 'S', 'F', 'S', 'S', 'S')  é igual a  0.00010\n",
      "Probabilidade de acontecer  ('F', 'F', 'S', 'F', 'S', 'S', 'F')  é igual a  0.00001\n",
      "Probabilidade de acontecer  ('F', 'F', 'S', 'F', 'S', 'F', 'S')  é igual a  0.00001\n",
      "Probabilidade de acontecer  ('F', 'F', 'S', 'F', 'S', 'F', 'F')  é igual a  0.00000\n",
      "Probabilidade de acontecer  ('F', 'F', 'S', 'F', 'F', 'S', 'S')  é igual a  0.00001\n",
      "Probabilidade de acontecer  ('F', 'F', 'S', 'F', 'F', 'S', 'F')  é igual a  0.00000\n",
      "Probabilidade de acontecer  ('F', 'F', 'S', 'F', 'F', 'F', 'S')  é igual a  0.00000\n",
      "Probabilidade de acontecer  ('F', 'F', 'S', 'F', 'F', 'F', 'F')  é igual a  0.00000\n",
      "Probabilidade de acontecer  ('F', 'F', 'F', 'S', 'S', 'S', 'S')  é igual a  0.00010\n",
      "Probabilidade de acontecer  ('F', 'F', 'F', 'S', 'S', 'S', 'F')  é igual a  0.00001\n",
      "Probabilidade de acontecer  ('F', 'F', 'F', 'S', 'S', 'F', 'S')  é igual a  0.00001\n",
      "Probabilidade de acontecer  ('F', 'F', 'F', 'S', 'S', 'F', 'F')  é igual a  0.00000\n",
      "Probabilidade de acontecer  ('F', 'F', 'F', 'S', 'F', 'S', 'S')  é igual a  0.00001\n",
      "Probabilidade de acontecer  ('F', 'F', 'F', 'S', 'F', 'S', 'F')  é igual a  0.00000\n",
      "Probabilidade de acontecer  ('F', 'F', 'F', 'S', 'F', 'F', 'S')  é igual a  0.00000\n",
      "Probabilidade de acontecer  ('F', 'F', 'F', 'S', 'F', 'F', 'F')  é igual a  0.00000\n",
      "Probabilidade de acontecer  ('F', 'F', 'F', 'F', 'S', 'S', 'S')  é igual a  0.00001\n",
      "Probabilidade de acontecer  ('F', 'F', 'F', 'F', 'S', 'S', 'F')  é igual a  0.00000\n",
      "Probabilidade de acontecer  ('F', 'F', 'F', 'F', 'S', 'F', 'S')  é igual a  0.00000\n",
      "Probabilidade de acontecer  ('F', 'F', 'F', 'F', 'S', 'F', 'F')  é igual a  0.00000\n",
      "Probabilidade de acontecer  ('F', 'F', 'F', 'F', 'F', 'S', 'S')  é igual a  0.00000\n",
      "Probabilidade de acontecer  ('F', 'F', 'F', 'F', 'F', 'S', 'F')  é igual a  0.00000\n",
      "Probabilidade de acontecer  ('F', 'F', 'F', 'F', 'F', 'F', 'S')  é igual a  0.00000\n",
      "Probabilidade de acontecer  ('F', 'F', 'F', 'F', 'F', 'F', 'F')  é igual a  0.00000\n"
     ]
    }
   ],
   "source": [
    "#item 2\n",
    "\n",
    "n=7\n",
    "        \n",
    "sf = [\"S\", \"F\"]\n",
    "probabilidade = {\"S\": 0.95, \"F\":0.05}\n",
    "itertooing = itertools.product(sf, repeat=n)\n",
    "e_a = list(itertooing)\n",
    "\n",
    "probabilidades = []\n",
    "\n",
    "for ser in e_a:\n",
    "    p = 1.0\n",
    "    for i in ser:\n",
    "        p*=probabilidade[i]\n",
    "    probabilidades.append(p)\n",
    "    print(\"Probabilidade de acontecer \",ser,\" é igual a \",\"%3.5f\"%p)     "
   ]
  },
  {
   "cell_type": "code",
   "execution_count": 56,
   "metadata": {},
   "outputs": [
    {
     "name": "stdout",
     "output_type": "stream",
     "text": [
      "0.69833729609375\n",
      "0.2572821617187501\n",
      "0.04062349921875004\n",
      "0.00356346484375\n",
      "0.00018755078124999986\n",
      "5.922656250000019e-06\n",
      "1.0390624999999968e-07\n"
     ]
    }
   ],
   "source": [
    "arex = []\n",
    "\n",
    "for alex in range(0,7):\n",
    "    statsb = stats.binom.pmf(alex, 7, 0.05)\n",
    "    arex.append(statsb)\n",
    "    print(statsb)"
   ]
  },
  {
   "cell_type": "code",
   "execution_count": 65,
   "metadata": {},
   "outputs": [
    {
     "name": "stdout",
     "output_type": "stream",
     "text": [
      "(array(5.), array(4.75))\n",
      "0.005920529220334023\n",
      "0.031160680107020593\n",
      "0.08118177185776551\n",
      "0.1395756779308903\n",
      "0.17814264156968956\n",
      "0.18001782727043672\n",
      "0.15001485605869255\n",
      "0.10602553736478391\n",
      "0.06487088799292766\n",
      "0.034901296464031804\n",
      "0.016715884095931225\n",
      "0.007198227601119233\n",
      "0.0028098344583314945\n",
      "0.001001074624830605\n",
      "0.00032741914421153287\n",
      "9.880016281470898e-05\n",
      "2.762504552384916e-05\n",
      "7.184222365335237e-06\n",
      "1.7435393459730753e-06\n",
      "3.960394082265668e-07\n",
      "8.441892649039948e-08\n",
      "1.6926100549455788e-08\n",
      "3.1989520177198604e-09\n",
      "5.709799940094749e-10\n",
      "9.641548144458742e-11\n",
      "1.5426477031134177e-11\n",
      "0.999999999997256\n"
     ]
    }
   ],
   "source": [
    "#item 3\n",
    "\n",
    "aga = 0\n",
    "stats_3 = stats.binom.stats(100, 0.05, moments='mv')\n",
    "print(stats_3)\n",
    "\n",
    "for i in range(0,26):\n",
    "    stats_4 = stats.binom.pmf(i, 100, 0.05)\n",
    "    aga = aga + stats_4\n",
    "    print(stats_4)\n",
    "print(aga)"
   ]
  },
  {
   "cell_type": "markdown",
   "metadata": {},
   "source": [
    "Média --- 5\n",
    "\n",
    "Variância --- 4.75\n",
    "\n",
    "Probabilidade de 0 falharem --- 0.6%\n",
    "\n",
    "Prob 50 em 100 falharem --- 0%\n"
   ]
  },
  {
   "cell_type": "markdown",
   "metadata": {
    "collapsed": true
   },
   "source": [
    "___\n",
    "## <font color='blue'>Exercício 2</font>\n",
    "\n",
    "Esse exercício irá explorar modelos de distribuição de Poisson.\n",
    "\n",
    "Uma fábrica produz determinado veículo. O gerente de vendas fechou um negócio que implica na produção de pelo menos 110 unidades nos próximos dois meses. Para isso, será construída uma nova linha de montagem com capacidade para produzir em média 50 veículos por mês (considere meses de 30 dias). A linha funcionará ininterruptamente. Além disso, apenas um veículo é produzido por vez. Considere que um modelo Poisson seja adequado para a quantidade de veículos produzidos.\n",
    "   1. Qual a probabilidade  da produção ser igual a 100 veículos nos próximos dois meses?\n",
    "   2. Qual a probabilidade  da produção ser de pelo menos 100 veículos nos próximos dois meses?\n",
    "   3. Qual a probabilidade da produção ser entre 100 e 110 veículos nos próximos dois meses?\n",
    "   4. Se forem produzidos de pelo menos 100 veículos no próximo mês, qual a probabilidade do gerente cumprir a meta negociada?\n",
    "   5. Caso o prazo seja cumprido, o lucro será da ordem de $250$ mil, caso não seja, o lucro cai para $200$ mil. Qual é o lucro esperado e seu desvio-padrão?\n",
    "\n",
    "**Observação:** Explore os comandos de `stats.poisson`. <sup>[http://docs.scipy.org/doc/scipy/reference/generated/scipy.stats.poisson.html]\n"
   ]
  },
  {
   "cell_type": "code",
   "execution_count": null,
   "metadata": {
    "collapsed": true
   },
   "outputs": [],
   "source": []
  }
 ],
 "metadata": {
  "anaconda-cloud": {},
  "kernelspec": {
   "display_name": "Python 3",
   "language": "python",
   "name": "python3"
  },
  "language_info": {
   "codemirror_mode": {
    "name": "ipython",
    "version": 3
   },
   "file_extension": ".py",
   "mimetype": "text/x-python",
   "name": "python",
   "nbconvert_exporter": "python",
   "pygments_lexer": "ipython3",
   "version": "3.6.4"
  }
 },
 "nbformat": 4,
 "nbformat_minor": 1
}
