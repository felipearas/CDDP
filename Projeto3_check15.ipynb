{
 "cells": [
  {
   "cell_type": "markdown",
   "metadata": {},
   "source": [
    "## Projeto 3 - Felipe Aron, Eduardo Vaz e Pedro Lopes"
   ]
  },
  {
   "cell_type": "markdown",
   "metadata": {},
   "source": [
    "### Bitcoin price"
   ]
  },
  {
   "cell_type": "markdown",
   "metadata": {},
   "source": [
    "#### Introdução"
   ]
  },
  {
   "cell_type": "markdown",
   "metadata": {},
   "source": [
    "Desde a ascêndencia da criptografia e da computação no final do século XX, as inovações digitais têm modificado a maneira como os índividuos se interagem e como é transmitida a informação. Em 2008, após muito desenvolvimento programacional de seus antecedentes Wei Dai, Adam Back, entre outros, Satoshi Nakamoto publicou o whitepaper do Bitcoin, que viria a se tornar o primeiro passo para a construção de um novo sistema de transações de valor. Foi criada uma ferramenta de armazenamento de dados capaz de construir um sistema descentralizado de validação de transações e requerimento de dados de forma completamente \"trustless\". Deu-se o nome para essa tecnologia de blockchain, pela forma como é escrita ao longo do tempo.\n",
    "\n",
    "\n",
    "\n",
    "Começou-se uma nova revolução moedas virtuais chegaram para instaurar um novo modelo de negócio e de transação financeira. Sendo assim, buscamos nesse documento, analisar o movimento de valor de mercado do Bitcoin. Essa análise, vai se basear em buscar e comparar outros movimentos de mercado que possam influenciar o Bitcoin. \n",
    "\n",
    "Por exemplo, movimento de outros mercados financeiros e suas bolsas de valores, como São Paulo, Tokyo, Nova York e Xangai por exemplo. Outra variável que pode influenciar é a quantidade de carteiras, que seriam como “contas” contendo bitcoin no mundo todo, ela pode de acordo com certa análise representar a oferta e demanda do bitcoin.\n",
    "\n",
    "Vamos utilizar o dataset que contem o valor da bitcoin em função do tempo, e analisar nesse mesmo tempo, movimento de outras bolsas e outros mercados pra analisar a reação da criptomoeda. Como o mercado da bitcoin não fecha, não abertura e fechamento de bolsa, consequentemente."
   ]
  },
  {
   "cell_type": "code",
   "execution_count": 1,
   "metadata": {
    "collapsed": true
   },
   "outputs": [],
   "source": [
    "import pandas as pd\n",
    "import os\n",
    "import numpy as np\n",
    "%matplotlib inline\n",
    "import matplotlib.pyplot as plt\n",
    "from scipy.stats import linregress\n",
    "import statsmodels.api as sm"
   ]
  },
  {
   "cell_type": "code",
   "execution_count": 2,
   "metadata": {
    "collapsed": false
   },
   "outputs": [
    {
     "name": "stdout",
     "output_type": "stream",
     "text": [
      "Esperamos trabalhar no diretório\n",
      "C:\\Users\\Dudu Vaz\\Desktop\n"
     ]
    }
   ],
   "source": [
    "print('Esperamos trabalhar no diretório')\n",
    "print(os.getcwd())"
   ]
  },
  {
   "cell_type": "code",
   "execution_count": 3,
   "metadata": {
    "collapsed": false
   },
   "outputs": [
    {
     "ename": "FileNotFoundError",
     "evalue": "File b'MyWallet.csv' does not exist",
     "output_type": "error",
     "traceback": [
      "\u001b[0;31m---------------------------------------------------------------------------\u001b[0m",
      "\u001b[0;31mFileNotFoundError\u001b[0m                         Traceback (most recent call last)",
      "\u001b[0;32m<ipython-input-3-e9d0ccfc1b74>\u001b[0m in \u001b[0;36m<module>\u001b[0;34m()\u001b[0m\n\u001b[0;32m----> 1\u001b[0;31m \u001b[0mdata_wallets\u001b[0m \u001b[1;33m=\u001b[0m \u001b[0mpd\u001b[0m\u001b[1;33m.\u001b[0m\u001b[0mread_csv\u001b[0m\u001b[1;33m(\u001b[0m\u001b[1;34m'MyWallet.csv'\u001b[0m\u001b[1;33m,\u001b[0m\u001b[0msep\u001b[0m\u001b[1;33m=\u001b[0m\u001b[1;34m','\u001b[0m\u001b[1;33m)\u001b[0m\u001b[1;33m\u001b[0m\u001b[0m\n\u001b[0m\u001b[1;32m      2\u001b[0m \u001b[0mdata_price\u001b[0m \u001b[1;33m=\u001b[0m \u001b[0mpd\u001b[0m\u001b[1;33m.\u001b[0m\u001b[0mread_csv\u001b[0m\u001b[1;33m(\u001b[0m\u001b[1;34m'MyPrice.csv'\u001b[0m\u001b[1;33m,\u001b[0m\u001b[0msep\u001b[0m\u001b[1;33m=\u001b[0m\u001b[1;34m','\u001b[0m\u001b[1;33m)\u001b[0m\u001b[1;33m\u001b[0m\u001b[0m\n\u001b[1;32m      3\u001b[0m \u001b[0mdata_transactions\u001b[0m \u001b[1;33m=\u001b[0m \u001b[0mpd\u001b[0m\u001b[1;33m.\u001b[0m\u001b[0mread_csv\u001b[0m\u001b[1;33m(\u001b[0m\u001b[1;34m'MyTransactions.csv'\u001b[0m\u001b[1;33m,\u001b[0m\u001b[0msep\u001b[0m\u001b[1;33m=\u001b[0m\u001b[1;34m','\u001b[0m\u001b[1;33m)\u001b[0m\u001b[1;33m\u001b[0m\u001b[0m\n\u001b[1;32m      4\u001b[0m \u001b[0mdata_difficult\u001b[0m \u001b[1;33m=\u001b[0m \u001b[0mpd\u001b[0m\u001b[1;33m.\u001b[0m\u001b[0mread_csv\u001b[0m\u001b[1;33m(\u001b[0m\u001b[1;34m'MyDifficult.csv'\u001b[0m\u001b[1;33m,\u001b[0m\u001b[0msep\u001b[0m\u001b[1;33m=\u001b[0m\u001b[1;34m','\u001b[0m\u001b[1;33m)\u001b[0m\u001b[1;33m\u001b[0m\u001b[0m\n",
      "\u001b[0;32mC:\\Users\\Dudu Vaz\\Anaconda3\\lib\\site-packages\\pandas\\io\\parsers.py\u001b[0m in \u001b[0;36mparser_f\u001b[0;34m(filepath_or_buffer, sep, delimiter, header, names, index_col, usecols, squeeze, prefix, mangle_dupe_cols, dtype, engine, converters, true_values, false_values, skipinitialspace, skiprows, nrows, na_values, keep_default_na, na_filter, verbose, skip_blank_lines, parse_dates, infer_datetime_format, keep_date_col, date_parser, dayfirst, iterator, chunksize, compression, thousands, decimal, lineterminator, quotechar, quoting, escapechar, comment, encoding, dialect, tupleize_cols, error_bad_lines, warn_bad_lines, skipfooter, skip_footer, doublequote, delim_whitespace, as_recarray, compact_ints, use_unsigned, low_memory, buffer_lines, memory_map, float_precision)\u001b[0m\n\u001b[1;32m    644\u001b[0m                     skip_blank_lines=skip_blank_lines)\n\u001b[1;32m    645\u001b[0m \u001b[1;33m\u001b[0m\u001b[0m\n\u001b[0;32m--> 646\u001b[0;31m         \u001b[1;32mreturn\u001b[0m \u001b[0m_read\u001b[0m\u001b[1;33m(\u001b[0m\u001b[0mfilepath_or_buffer\u001b[0m\u001b[1;33m,\u001b[0m \u001b[0mkwds\u001b[0m\u001b[1;33m)\u001b[0m\u001b[1;33m\u001b[0m\u001b[0m\n\u001b[0m\u001b[1;32m    647\u001b[0m \u001b[1;33m\u001b[0m\u001b[0m\n\u001b[1;32m    648\u001b[0m     \u001b[0mparser_f\u001b[0m\u001b[1;33m.\u001b[0m\u001b[0m__name__\u001b[0m \u001b[1;33m=\u001b[0m \u001b[0mname\u001b[0m\u001b[1;33m\u001b[0m\u001b[0m\n",
      "\u001b[0;32mC:\\Users\\Dudu Vaz\\Anaconda3\\lib\\site-packages\\pandas\\io\\parsers.py\u001b[0m in \u001b[0;36m_read\u001b[0;34m(filepath_or_buffer, kwds)\u001b[0m\n\u001b[1;32m    387\u001b[0m \u001b[1;33m\u001b[0m\u001b[0m\n\u001b[1;32m    388\u001b[0m     \u001b[1;31m# Create the parser.\u001b[0m\u001b[1;33m\u001b[0m\u001b[1;33m\u001b[0m\u001b[0m\n\u001b[0;32m--> 389\u001b[0;31m     \u001b[0mparser\u001b[0m \u001b[1;33m=\u001b[0m \u001b[0mTextFileReader\u001b[0m\u001b[1;33m(\u001b[0m\u001b[0mfilepath_or_buffer\u001b[0m\u001b[1;33m,\u001b[0m \u001b[1;33m**\u001b[0m\u001b[0mkwds\u001b[0m\u001b[1;33m)\u001b[0m\u001b[1;33m\u001b[0m\u001b[0m\n\u001b[0m\u001b[1;32m    390\u001b[0m \u001b[1;33m\u001b[0m\u001b[0m\n\u001b[1;32m    391\u001b[0m     \u001b[1;32mif\u001b[0m \u001b[1;33m(\u001b[0m\u001b[0mnrows\u001b[0m \u001b[1;32mis\u001b[0m \u001b[1;32mnot\u001b[0m \u001b[1;32mNone\u001b[0m\u001b[1;33m)\u001b[0m \u001b[1;32mand\u001b[0m \u001b[1;33m(\u001b[0m\u001b[0mchunksize\u001b[0m \u001b[1;32mis\u001b[0m \u001b[1;32mnot\u001b[0m \u001b[1;32mNone\u001b[0m\u001b[1;33m)\u001b[0m\u001b[1;33m:\u001b[0m\u001b[1;33m\u001b[0m\u001b[0m\n",
      "\u001b[0;32mC:\\Users\\Dudu Vaz\\Anaconda3\\lib\\site-packages\\pandas\\io\\parsers.py\u001b[0m in \u001b[0;36m__init__\u001b[0;34m(self, f, engine, **kwds)\u001b[0m\n\u001b[1;32m    728\u001b[0m             \u001b[0mself\u001b[0m\u001b[1;33m.\u001b[0m\u001b[0moptions\u001b[0m\u001b[1;33m[\u001b[0m\u001b[1;34m'has_index_names'\u001b[0m\u001b[1;33m]\u001b[0m \u001b[1;33m=\u001b[0m \u001b[0mkwds\u001b[0m\u001b[1;33m[\u001b[0m\u001b[1;34m'has_index_names'\u001b[0m\u001b[1;33m]\u001b[0m\u001b[1;33m\u001b[0m\u001b[0m\n\u001b[1;32m    729\u001b[0m \u001b[1;33m\u001b[0m\u001b[0m\n\u001b[0;32m--> 730\u001b[0;31m         \u001b[0mself\u001b[0m\u001b[1;33m.\u001b[0m\u001b[0m_make_engine\u001b[0m\u001b[1;33m(\u001b[0m\u001b[0mself\u001b[0m\u001b[1;33m.\u001b[0m\u001b[0mengine\u001b[0m\u001b[1;33m)\u001b[0m\u001b[1;33m\u001b[0m\u001b[0m\n\u001b[0m\u001b[1;32m    731\u001b[0m \u001b[1;33m\u001b[0m\u001b[0m\n\u001b[1;32m    732\u001b[0m     \u001b[1;32mdef\u001b[0m \u001b[0mclose\u001b[0m\u001b[1;33m(\u001b[0m\u001b[0mself\u001b[0m\u001b[1;33m)\u001b[0m\u001b[1;33m:\u001b[0m\u001b[1;33m\u001b[0m\u001b[0m\n",
      "\u001b[0;32mC:\\Users\\Dudu Vaz\\Anaconda3\\lib\\site-packages\\pandas\\io\\parsers.py\u001b[0m in \u001b[0;36m_make_engine\u001b[0;34m(self, engine)\u001b[0m\n\u001b[1;32m    921\u001b[0m     \u001b[1;32mdef\u001b[0m \u001b[0m_make_engine\u001b[0m\u001b[1;33m(\u001b[0m\u001b[0mself\u001b[0m\u001b[1;33m,\u001b[0m \u001b[0mengine\u001b[0m\u001b[1;33m=\u001b[0m\u001b[1;34m'c'\u001b[0m\u001b[1;33m)\u001b[0m\u001b[1;33m:\u001b[0m\u001b[1;33m\u001b[0m\u001b[0m\n\u001b[1;32m    922\u001b[0m         \u001b[1;32mif\u001b[0m \u001b[0mengine\u001b[0m \u001b[1;33m==\u001b[0m \u001b[1;34m'c'\u001b[0m\u001b[1;33m:\u001b[0m\u001b[1;33m\u001b[0m\u001b[0m\n\u001b[0;32m--> 923\u001b[0;31m             \u001b[0mself\u001b[0m\u001b[1;33m.\u001b[0m\u001b[0m_engine\u001b[0m \u001b[1;33m=\u001b[0m \u001b[0mCParserWrapper\u001b[0m\u001b[1;33m(\u001b[0m\u001b[0mself\u001b[0m\u001b[1;33m.\u001b[0m\u001b[0mf\u001b[0m\u001b[1;33m,\u001b[0m \u001b[1;33m**\u001b[0m\u001b[0mself\u001b[0m\u001b[1;33m.\u001b[0m\u001b[0moptions\u001b[0m\u001b[1;33m)\u001b[0m\u001b[1;33m\u001b[0m\u001b[0m\n\u001b[0m\u001b[1;32m    924\u001b[0m         \u001b[1;32melse\u001b[0m\u001b[1;33m:\u001b[0m\u001b[1;33m\u001b[0m\u001b[0m\n\u001b[1;32m    925\u001b[0m             \u001b[1;32mif\u001b[0m \u001b[0mengine\u001b[0m \u001b[1;33m==\u001b[0m \u001b[1;34m'python'\u001b[0m\u001b[1;33m:\u001b[0m\u001b[1;33m\u001b[0m\u001b[0m\n",
      "\u001b[0;32mC:\\Users\\Dudu Vaz\\Anaconda3\\lib\\site-packages\\pandas\\io\\parsers.py\u001b[0m in \u001b[0;36m__init__\u001b[0;34m(self, src, **kwds)\u001b[0m\n\u001b[1;32m   1388\u001b[0m         \u001b[0mkwds\u001b[0m\u001b[1;33m[\u001b[0m\u001b[1;34m'allow_leading_cols'\u001b[0m\u001b[1;33m]\u001b[0m \u001b[1;33m=\u001b[0m \u001b[0mself\u001b[0m\u001b[1;33m.\u001b[0m\u001b[0mindex_col\u001b[0m \u001b[1;32mis\u001b[0m \u001b[1;32mnot\u001b[0m \u001b[1;32mFalse\u001b[0m\u001b[1;33m\u001b[0m\u001b[0m\n\u001b[1;32m   1389\u001b[0m \u001b[1;33m\u001b[0m\u001b[0m\n\u001b[0;32m-> 1390\u001b[0;31m         \u001b[0mself\u001b[0m\u001b[1;33m.\u001b[0m\u001b[0m_reader\u001b[0m \u001b[1;33m=\u001b[0m \u001b[0m_parser\u001b[0m\u001b[1;33m.\u001b[0m\u001b[0mTextReader\u001b[0m\u001b[1;33m(\u001b[0m\u001b[0msrc\u001b[0m\u001b[1;33m,\u001b[0m \u001b[1;33m**\u001b[0m\u001b[0mkwds\u001b[0m\u001b[1;33m)\u001b[0m\u001b[1;33m\u001b[0m\u001b[0m\n\u001b[0m\u001b[1;32m   1391\u001b[0m \u001b[1;33m\u001b[0m\u001b[0m\n\u001b[1;32m   1392\u001b[0m         \u001b[1;31m# XXX\u001b[0m\u001b[1;33m\u001b[0m\u001b[1;33m\u001b[0m\u001b[0m\n",
      "\u001b[0;32mpandas\\parser.pyx\u001b[0m in \u001b[0;36mpandas.parser.TextReader.__cinit__ (pandas\\parser.c:4184)\u001b[0;34m()\u001b[0m\n",
      "\u001b[0;32mpandas\\parser.pyx\u001b[0m in \u001b[0;36mpandas.parser.TextReader._setup_parser_source (pandas\\parser.c:8449)\u001b[0;34m()\u001b[0m\n",
      "\u001b[0;31mFileNotFoundError\u001b[0m: File b'MyWallet.csv' does not exist"
     ]
    }
   ],
   "source": [
    "data_wallets = pd.read_csv('MyWallet.csv',sep=',')\n",
    "data_price = pd.read_csv('MyPrice.csv',sep=',')\n",
    "data_transactions = pd.read_csv('MyTransactions.csv',sep=',')\n",
    "data_difficult = pd.read_csv('MyDifficult.csv',sep=',')"
   ]
  },
  {
   "cell_type": "markdown",
   "metadata": {},
   "source": [
    "### Adjusting dataframe"
   ]
  },
  {
   "cell_type": "code",
   "execution_count": null,
   "metadata": {
    "collapsed": false
   },
   "outputs": [],
   "source": [
    "# Renomeamos a coluna do número de wallet's ativas em um dia para \"Number of active BTC wallets in the network\"\n",
    "data_wallets = data_wallets.rename(columns={'Value':\"Number of active BTC wallets in the network\"})\n",
    "data_wallets.head()"
   ]
  },
  {
   "cell_type": "code",
   "execution_count": null,
   "metadata": {
    "collapsed": false
   },
   "outputs": [],
   "source": [
    "# Renomeamos a coluna do preço do BTC em U$ para \"BTC Price\"\n",
    "data_price = data_price.rename(columns={'Value':'BTC price'})\n",
    "data_price.head()"
   ]
  },
  {
   "cell_type": "code",
   "execution_count": null,
   "metadata": {
    "collapsed": false
   },
   "outputs": [],
   "source": [
    "# Renomeamos a coluna do número de transações na rede BTC em um dia para \"Number of transactions\"\n",
    "data_transactions = data_transactions.rename(columns={'Value':'Number of transactions'})\n",
    "data_transactions.head()"
   ]
  },
  {
   "cell_type": "code",
   "execution_count": null,
   "metadata": {
    "collapsed": false
   },
   "outputs": [],
   "source": [
    "# Renomeamos a coluna da difficuldade de mineração de um bloco em um dia para \"Minning difficult\"\n",
    "data_difficult = data_difficult.rename(columns={'Value':'Minning difficult'})\n",
    "data_difficult.head()"
   ]
  },
  {
   "cell_type": "code",
   "execution_count": null,
   "metadata": {
    "collapsed": true
   },
   "outputs": [],
   "source": [
    "# Usando o metódo 'concat' juntamos os quatro dataframes ['data_wallets','data_price','data_transactions',data_difficult] em\n",
    "# um único dataframe df_btc com as chaves 'Date' para a data, 'data_price' para o preço, 'data_wallets' para o número de wallets,\n",
    "# 'data_transactions' para número de transações na rede em um dia e 'data_difficult' para a dificuldade de mineração de um bloco\n",
    "df_btc = pd.concat([data_price['Date'],data_price['BTC price'],data_wallets['Number of active BTC wallets in the network'],\\\n",
    "                    data_transactions['Number of transactions'],data_difficult['Minning difficult']],\\\n",
    "                    axis=1, keys=['Date','data_price', 'data_wallets','data_transactions','data_difficult'])"
   ]
  },
  {
   "cell_type": "code",
   "execution_count": null,
   "metadata": {
    "collapsed": true
   },
   "outputs": [],
   "source": []
  },
  {
   "cell_type": "code",
   "execution_count": null,
   "metadata": {
    "collapsed": true
   },
   "outputs": [],
   "source": []
  },
  {
   "cell_type": "code",
   "execution_count": null,
   "metadata": {
    "collapsed": false
   },
   "outputs": [],
   "source": [
    "df_btc.describe()"
   ]
  },
  {
   "cell_type": "code",
   "execution_count": null,
   "metadata": {
    "collapsed": false
   },
   "outputs": [],
   "source": [
    "df_adjusted = df_btc[df_btc.data_price != 0] # ---> Cleaning dataframe wich has 0 values for BTC prices\n",
    "with pd.option_context('display.max_rows', None, 'display.max_columns', None):\n",
    "    print(df_adjusted)"
   ]
  },
  {
   "cell_type": "code",
   "execution_count": null,
   "metadata": {
    "collapsed": true
   },
   "outputs": [],
   "source": [
    "# Com o metódo 'assign' criamos uma nova coluna para o dataframe que calcula o delta do preço do BTC em U$ de um dia anterior \n",
    "# para o atual com o metódo 'diff'\n",
    "df_btc_adjusted = df_adjusted.assign(DeltaBTCPrice=pd.Series(df_adjusted.data_price.diff().fillna(0).astype(float)).values)    "
   ]
  },
  {
   "cell_type": "code",
   "execution_count": null,
   "metadata": {
    "collapsed": false
   },
   "outputs": [],
   "source": [
    "df_btc_adjusted.DeltaBTCPrice.describe()"
   ]
  },
  {
   "cell_type": "code",
   "execution_count": null,
   "metadata": {
    "collapsed": true
   },
   "outputs": [],
   "source": [
    "# Com o metódo 'assign' criamos uma nova coluna para o dataframe que calcula o delta do número de wallets ativas na rede do BTC\n",
    "df_btc_adjusted_wallets = df_btc_adjusted.assign(DeltaBTCWallets=pd.Series(df_btc_adjusted.data_wallets.diff().fillna(0).astype(float)).values)"
   ]
  },
  {
   "cell_type": "code",
   "execution_count": null,
   "metadata": {
    "collapsed": false
   },
   "outputs": [],
   "source": [
    "df_btc_adjusted_wallets.DeltaBTCWallets.describe() # ---> Number of unique bitcoin addresses used per day."
   ]
  },
  {
   "cell_type": "code",
   "execution_count": null,
   "metadata": {
    "collapsed": true
   },
   "outputs": [],
   "source": [
    "# Com o metódo 'assign' criamos uma nova coluna para o dataframe que calcula o delta do número de transações na rede do BTC\n",
    "df_btc_adjusted_transactions = df_btc_adjusted_wallets.assign(DeltaBTCTransactions=pd.Series(df_btc_adjusted_wallets.data_transactions.diff().fillna(0).astype(float)).values)"
   ]
  },
  {
   "cell_type": "code",
   "execution_count": null,
   "metadata": {
    "collapsed": false
   },
   "outputs": [],
   "source": [
    "df_btc_adjusted_transactions.DeltaBTCTransactions.describe()"
   ]
  },
  {
   "cell_type": "code",
   "execution_count": null,
   "metadata": {
    "collapsed": true
   },
   "outputs": [],
   "source": [
    "# Com o metódo 'assign' criamos uma nova coluna para o dataframe que calcula o delta da dificuldade de mineração\n",
    "# de blocos na rede do BTC\n",
    "df_btc_adjusted_difficult = df_btc_adjusted_transactions.assign(DeltaBTCDifficult=pd.Series(df_btc_adjusted_transactions.data_difficult.diff().fillna(0).astype(float)).values)"
   ]
  },
  {
   "cell_type": "code",
   "execution_count": null,
   "metadata": {
    "collapsed": false
   },
   "outputs": [],
   "source": [
    "df_btc_adjusted_difficult.DeltaBTCDifficult.describe()"
   ]
  },
  {
   "cell_type": "code",
   "execution_count": null,
   "metadata": {
    "collapsed": false,
    "scrolled": false
   },
   "outputs": [],
   "source": [
    "df = df_btc_adjusted_difficult.dropna(axis=0, how='any')\n",
    "df"
   ]
  },
  {
   "cell_type": "code",
   "execution_count": null,
   "metadata": {
    "collapsed": true
   },
   "outputs": [],
   "source": [
    "#Separando o dataframe unido agora em base treino e base teste\n",
    "comp = np.random.rand(len(df)) < 0.75\n",
    "\n",
    "df = df[comp]\n",
    "\n",
    "test = df[~comp]\n",
    "\n",
    "df"
   ]
  },
  {
   "cell_type": "markdown",
   "metadata": {},
   "source": [
    "## Modelos preditivos"
   ]
  },
  {
   "cell_type": "markdown",
   "metadata": {},
   "source": [
    "Com o dataframe organizado e com um leque razoável de variáveis para análise realizamos as implementações dos modelos preditivos:\n",
    "\n",
    "- Modelo de predição pela média\n",
    "\n",
    "- Modelo dos K vizinhos mais próximos (K-Nearest Neighbors Regression)\n",
    "\n",
    "- Modelo de Regressão Linear (Multiple Linear Regression)\n",
    "\n",
    "- Modelo de árvores de regressão (Decision Tree Regression)"
   ]
  },
  {
   "cell_type": "markdown",
   "metadata": {},
   "source": [
    "### Modelo de predição pela média"
   ]
  },
  {
   "cell_type": "markdown",
   "metadata": {},
   "source": [
    "Usando somente a variável em Y para fazer essa predição que é a média de todos os valores para o preco do BTC entre 2010-08-17 e 2018-05-22 (Year-Month-Day)"
   ]
  },
  {
   "cell_type": "code",
   "execution_count": null,
   "metadata": {
    "collapsed": false
   },
   "outputs": [],
   "source": [
    "print(\"A média dps valores do preço do BTC em U$ é {0}\".format(df.data_price.mean()))"
   ]
  },
  {
   "cell_type": "markdown",
   "metadata": {},
   "source": [
    "### Modelo dos K vizinhos mais próximos"
   ]
  },
  {
   "cell_type": "code",
   "execution_count": null,
   "metadata": {
    "collapsed": true
   },
   "outputs": [],
   "source": []
  },
  {
   "cell_type": "markdown",
   "metadata": {},
   "source": [
    "### Modelo de  Regressão linear "
   ]
  },
  {
   "cell_type": "code",
   "execution_count": null,
   "metadata": {
    "collapsed": true
   },
   "outputs": [],
   "source": [
    "def lin_regression(x, y):\n",
    "    m, b, R, p, SEm = linregress(x, y)\n",
    "\n",
    "    n = len(x)\n",
    "    SSx = np.var(x, ddof=1) * (n-1)  \n",
    "    SEb2 = SEm **2 * (SSx/n + np.mean(x)**2)\n",
    "    SEb = SEb2**0.5\n",
    "\n",
    "    return m, b, SEm, SEb, R, p"
   ]
  },
  {
   "cell_type": "code",
   "execution_count": null,
   "metadata": {
    "collapsed": false
   },
   "outputs": [],
   "source": [
    "# Análise do coeficiente de determinação do preço do BTC em U$ em relação ao Delta do número de wallet's ativas na rede BTC\n",
    "\n",
    "m, b, Sm, Sb, R, p = lin_regression(df.data_price,df.DeltaBTCWallets)\n",
    "\n",
    "print('m = {:>.4g} +- {:6.4f}'.format(m, Sm))\n",
    "print('b = {:>.4g} +- {:6.4f}\\n'.format(b, Sb))\n",
    "\n",
    "print('R2 = {:7.5f}'.format(R**2))\n",
    "print('p of test F : {:<8.6f}'.format(p))"
   ]
  },
  {
   "cell_type": "code",
   "execution_count": null,
   "metadata": {
    "collapsed": false
   },
   "outputs": [],
   "source": [
    "Y = df.data_price\n",
    "X = df.DeltaBTCWallets\n",
    "X = sm.add_constant(X)\n",
    "model = sm.OLS(Y,X)\n",
    "results = model.fit()\n",
    "results.rsquared"
   ]
  },
  {
   "cell_type": "markdown",
   "metadata": {},
   "source": [
    "Como o resultado para o \"R-squared\" foi próximo a zero podemos pontuar que o Delta de Wallet's ativas na rede BTC não interfere no preço em U$ como tínhamos apontado como uma das hipóteses"
   ]
  },
  {
   "cell_type": "code",
   "execution_count": null,
   "metadata": {
    "collapsed": false
   },
   "outputs": [],
   "source": [
    "# Análise do coeficiente de determinação do preço do BTC em U$ em relação ao Delta do número de transações em um dia na rede BTC\n",
    "\n",
    "m, b, Sm, Sb, R, p = lin_regression(df.data_price,df.DeltaBTCTransactions)\n",
    "\n",
    "print('m = {:>.4g} +- {:6.4f}'.format(m, Sm))\n",
    "print('b = {:>.4g} +- {:6.4f}\\n'.format(b, Sb))\n",
    "\n",
    "print('R2 = {:7.5f}'.format(R**2))\n",
    "print('p of test F : {:<8.6f}'.format(p))"
   ]
  },
  {
   "cell_type": "code",
   "execution_count": null,
   "metadata": {
    "collapsed": false
   },
   "outputs": [],
   "source": [
    "Y = df.data_price\n",
    "X = df.DeltaBTCTransactions\n",
    "X = sm.add_constant(X)\n",
    "model = sm.OLS(Y,X)\n",
    "results = model.fit()\n",
    "results.rsquared"
   ]
  },
  {
   "cell_type": "markdown",
   "metadata": {},
   "source": [
    "Como o resultado para o \"R-squared\" foi próximo a zero podemos pontuar que o Delta de transações na rede BTC não interfere no preço em U$ como tínhamos apontado como uma das hipóteses."
   ]
  },
  {
   "cell_type": "code",
   "execution_count": null,
   "metadata": {
    "collapsed": false
   },
   "outputs": [],
   "source": [
    "# Análise do coeficiente de determinação do preço do BTC em U$ em relação ao Delta da dificuldade de mineração de blocos\n",
    "# na rede BTC\n",
    "\n",
    "m, b, Sm, Sb, R, p = lin_regression(df.data_price,df.DeltaBTCDifficult)\n",
    "\n",
    "print('m = {:>.4g} +- {:6.4f}'.format(m, Sm))\n",
    "print('b = {:>.4g} +- {:6.4f}\\n'.format(b, Sb))\n",
    "\n",
    "print('R2 = {:7.5f}'.format(R**2))\n",
    "print('p of test F : {:<8.6f}'.format(p))"
   ]
  },
  {
   "cell_type": "code",
   "execution_count": null,
   "metadata": {
    "collapsed": false
   },
   "outputs": [],
   "source": [
    "Y = df.data_price\n",
    "X = df.DeltaBTCDifficult\n",
    "X = sm.add_constant(X)\n",
    "model = sm.OLS(Y,X)\n",
    "results = model.fit()\n",
    "results.rsquared"
   ]
  },
  {
   "cell_type": "markdown",
   "metadata": {},
   "source": [
    "Como o resultado para o \"R-squared\" foi próximo a zero podemos pontuar que o Delta da dificuldade de mineração  de blocos na rede BTC não interfere no preço em U$ como tínhamos apontado como uma das hipóteses. Porém, esse havia sido o maior 'R-squared' atingido portanto fizemos a análise do coeficiente de determinação do valor em relação a dificuldade e chegamos à um alto 'R-squared'"
   ]
  },
  {
   "cell_type": "code",
   "execution_count": null,
   "metadata": {
    "collapsed": false
   },
   "outputs": [],
   "source": [
    "# Análise do coeficiente de determinação do preço do BTC em U$ em relação à dificuldade de mineração de blocos na rede BTC\n",
    "\n",
    "m, b, Sm, Sb, R, p = lin_regression(df.data_price,df.data_difficult)\n",
    "\n",
    "print('m = {:>.4g} +- {:6.4f}'.format(m, Sm))\n",
    "print('b = {:>.4g} +- {:6.4f}\\n'.format(b, Sb))\n",
    "\n",
    "print('R2 = {:7.5f}'.format(R**2))\n",
    "print('p of test F : {:<8.6f}'.format(p))"
   ]
  },
  {
   "cell_type": "code",
   "execution_count": null,
   "metadata": {
    "collapsed": false
   },
   "outputs": [],
   "source": [
    "Y = df.data_price\n",
    "X = df.data_difficult\n",
    "X = sm.add_constant(X)\n",
    "model = sm.OLS(Y,X)\n",
    "results = model.fit()\n",
    "results.rsquared"
   ]
  },
  {
   "cell_type": "code",
   "execution_count": null,
   "metadata": {
    "collapsed": true
   },
   "outputs": [],
   "source": [
    "# Explicação price x difficult"
   ]
  },
  {
   "cell_type": "code",
   "execution_count": null,
   "metadata": {
    "collapsed": false
   },
   "outputs": [],
   "source": [
    "# Análise do coeficiente de determinação do preço do BTC em U$ em relação à wallet's ativas na rede BTC\n",
    "\n",
    "m, b, Sm, Sb, R, p = lin_regression(df.data_price,df.data_wallets)\n",
    "\n",
    "print('m = {:>.4g} +- {:6.4f}'.format(m, Sm))\n",
    "print('b = {:>.4g} +- {:6.4f}\\n'.format(b, Sb))\n",
    "\n",
    "print('R2 = {:7.5f}'.format(R**2))\n",
    "print('p of test F : {:<8.6f}'.format(p))"
   ]
  },
  {
   "cell_type": "code",
   "execution_count": null,
   "metadata": {
    "collapsed": false
   },
   "outputs": [],
   "source": [
    "Y = df.data_price\n",
    "X = df.data_wallets\n",
    "X = sm.add_constant(X)\n",
    "model = sm.OLS(Y,X)\n",
    "results = model.fit()\n",
    "results.rsquared"
   ]
  },
  {
   "cell_type": "code",
   "execution_count": null,
   "metadata": {
    "collapsed": true
   },
   "outputs": [],
   "source": [
    "# Explicação price x wallets"
   ]
  },
  {
   "cell_type": "code",
   "execution_count": null,
   "metadata": {
    "collapsed": false
   },
   "outputs": [],
   "source": [
    "# Análise do coeficiente de determinação do preço do BTC em U$ em relação à transações na rede BTC\n",
    "\n",
    "m, b, Sm, Sb, R, p = lin_regression(df.data_price,df.data_transactions)\n",
    "\n",
    "print('m = {:>.4g} +- {:6.4f}'.format(m, Sm))\n",
    "print('b = {:>.4g} +- {:6.4f}\\n'.format(b, Sb))\n",
    "\n",
    "print('R2 = {:7.5f}'.format(R**2))\n",
    "print('p of test F : {:<8.6f}'.format(p))"
   ]
  },
  {
   "cell_type": "code",
   "execution_count": null,
   "metadata": {
    "collapsed": false
   },
   "outputs": [],
   "source": [
    "Y = df.data_price\n",
    "X = df.data_transactions\n",
    "X = sm.add_constant(X)\n",
    "model = sm.OLS(Y,X)\n",
    "results = model.fit()\n",
    "results.rsquared"
   ]
  },
  {
   "cell_type": "code",
   "execution_count": null,
   "metadata": {
    "collapsed": true
   },
   "outputs": [],
   "source": [
    "#Analise do coeficiente de determinação do Preço de BTC em U$ em relação à transações na rede BTC para base teste\n",
    "m, b, Sm, Sb, R, p = lin_regression(test.data_price,test.data_transactions)\n",
    "\n",
    "print('m = {:>.4g} +- {:6.4f}'.format(m, Sm))\n",
    "print('b = {:>.4g} +- {:6.4f}\\n'.format(b, Sb))\n",
    "\n",
    "print('R2 = {:7.5f}'.format(R**2))\n",
    "print('p of test F : {:<8.6f}'.format(p))"
   ]
  },
  {
   "cell_type": "markdown",
   "metadata": {},
   "source": [
    "A analise do coeficiente, utlizando dessa vez a base teste, nos apresenta um valor que na realidade é bem próximo ao da base treino. Isso acontece muito devido ao dataset ter sido dividido e apurado com muito cuidado, logo uma % dele, mesmo sendo menor, não consegue ter uma alteração tão grande no valor final, a diferença é pequena."
   ]
  },
  {
   "cell_type": "code",
   "execution_count": null,
   "metadata": {
    "collapsed": true
   },
   "outputs": [],
   "source": [
    "# Explicação price x transactios"
   ]
  },
  {
   "cell_type": "code",
   "execution_count": null,
   "metadata": {
    "collapsed": false
   },
   "outputs": [],
   "source": [
    "df.plot.scatter('data_price','data_difficult')"
   ]
  },
  {
   "cell_type": "code",
   "execution_count": null,
   "metadata": {
    "collapsed": false
   },
   "outputs": [],
   "source": [
    "df.plot.scatter('data_price','data_wallets')"
   ]
  },
  {
   "cell_type": "code",
   "execution_count": null,
   "metadata": {
    "collapsed": false
   },
   "outputs": [],
   "source": [
    "df.plot.scatter('data_price','data_transactions')"
   ]
  },
  {
   "cell_type": "markdown",
   "metadata": {},
   "source": [
    "### Modelo de árvores de regressão (Decision Tree Regression)"
   ]
  },
  {
   "cell_type": "code",
   "execution_count": null,
   "metadata": {
    "collapsed": true
   },
   "outputs": [],
   "source": []
  }
 ],
 "metadata": {
  "kernelspec": {
   "display_name": "Python 3",
   "language": "python",
   "name": "python3"
  },
  "language_info": {
   "codemirror_mode": {
    "name": "ipython",
    "version": 3
   },
   "file_extension": ".py",
   "mimetype": "text/x-python",
   "name": "python",
   "nbconvert_exporter": "python",
   "pygments_lexer": "ipython3",
   "version": "3.6.0"
  }
 },
 "nbformat": 4,
 "nbformat_minor": 2
}
