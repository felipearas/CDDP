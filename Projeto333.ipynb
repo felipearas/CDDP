{
 "cells": [
  {
   "cell_type": "markdown",
   "metadata": {},
   "source": [
    "## Projeto 3 - Felipe Aron, Eduardo Vaz e Pedro Lopes"
   ]
  },
  {
   "cell_type": "markdown",
   "metadata": {},
   "source": [
    "### Bitcoin price"
   ]
  },
  {
   "cell_type": "markdown",
   "metadata": {},
   "source": [
    "#### Introdução"
   ]
  },
  {
   "cell_type": "markdown",
   "metadata": {},
   "source": [
    "Desde a ascêndencia da criptografia e da computação no final do século XX, as inovações digitais têm modificado a maneira como os índividuos se interagem e como é transmitida a informação. Em 2008, após muito desenvolvimento programacional de seus antecedentes Wei Dai, Adam Back, entre outros, Satoshi Nakamoto publicou o whitepaper do Bitcoin, que viria a se tornar o primeiro passo para a construção de um novo sistema de transações de valor. Foi criada uma ferramenta de armazenamento de dados capaz de construir um sistema descentralizado de validação de transações e requerimento de dados de forma completamente \"trustless\". Deu-se o nome para essa tecnologia de blockchain, pela forma como é escrita ao longo do tempo.\n",
    "\n",
    "\n",
    "\n",
    "Começou-se uma nova revolução moedas virtuais chegaram para instaurar um novo modelo de negócio e de transação financeira. Sendo assim, buscamos nesse documento, analisar o movimento de valor de mercado do Bitcoin. Essa análise, vai se basear em buscar e comparar outros movimentos de mercado que possam influenciar o Bitcoin. \n",
    "\n",
    "Por exemplo, movimento de outros mercados financeiros e suas bolsas de valores, como São Paulo, Tokyo, Nova York e Xangai por exemplo. Outra variável que pode influenciar é a quantidade de carteiras, que seriam como “contas” contendo bitcoin no mundo todo, ela pode de acordo com certa análise representar a oferta e demanda do bitcoin.\n",
    "\n",
    "Vamos utilizar o dataset que contem o valor da bitcoin em função do tempo, e analisar nesse mesmo tempo, movimento de outras bolsas e outros mercados pra analisar a reação da criptomoeda. Como o mercado da bitcoin não fecha, não abertura e fechamento de bolsa, consequentemente."
   ]
  },
  {
   "cell_type": "code",
   "execution_count": 29,
   "metadata": {
    "collapsed": true
   },
   "outputs": [],
   "source": [
    "import pandas as pd\n",
    "import os\n",
    "import numpy as np\n",
    "%matplotlib inline\n",
    "import matplotlib.pyplot as plt"
   ]
  },
  {
   "cell_type": "code",
   "execution_count": 30,
   "metadata": {},
   "outputs": [
    {
     "name": "stdout",
     "output_type": "stream",
     "text": [
      "Esperamos trabalhar no diretório\n",
      "C:\\Users\\pedro\\Desktop\\3 Semestre\\DP-CD\\Projeto3\n"
     ]
    }
   ],
   "source": [
    "print('Esperamos trabalhar no diretório')\n",
    "print(os.getcwd())"
   ]
  },
  {
   "cell_type": "code",
   "execution_count": 31,
   "metadata": {
    "collapsed": true
   },
   "outputs": [],
   "source": [
    "data_wallets = pd.read_csv('MyWallet.csv',sep=',')\n",
    "data_price = pd.read_csv('MyPrice.csv',sep=',')\n",
    "data_transactions = pd.read_csv('MyTransactions.csv',sep=',')\n",
    "data_difficult = pd.read_csv('MyDifficult.csv',sep=',')"
   ]
  },
  {
   "cell_type": "code",
   "execution_count": 32,
   "metadata": {},
   "outputs": [
    {
     "data": {
      "text/html": [
       "<div>\n",
       "<table border=\"1\" class=\"dataframe\">\n",
       "  <thead>\n",
       "    <tr style=\"text-align: right;\">\n",
       "      <th></th>\n",
       "      <th>Date</th>\n",
       "      <th>Number of BTC wallets in the network</th>\n",
       "    </tr>\n",
       "  </thead>\n",
       "  <tbody>\n",
       "    <tr>\n",
       "      <th>0</th>\n",
       "      <td>2018-05-22</td>\n",
       "      <td>445195.0</td>\n",
       "    </tr>\n",
       "    <tr>\n",
       "      <th>1</th>\n",
       "      <td>2018-05-21</td>\n",
       "      <td>369970.0</td>\n",
       "    </tr>\n",
       "    <tr>\n",
       "      <th>2</th>\n",
       "      <td>2018-05-20</td>\n",
       "      <td>378135.0</td>\n",
       "    </tr>\n",
       "    <tr>\n",
       "      <th>3</th>\n",
       "      <td>2018-05-19</td>\n",
       "      <td>499647.0</td>\n",
       "    </tr>\n",
       "    <tr>\n",
       "      <th>4</th>\n",
       "      <td>2018-05-18</td>\n",
       "      <td>420624.0</td>\n",
       "    </tr>\n",
       "  </tbody>\n",
       "</table>\n",
       "</div>"
      ],
      "text/plain": [
       "         Date  Number of BTC wallets in the network\n",
       "0  2018-05-22                              445195.0\n",
       "1  2018-05-21                              369970.0\n",
       "2  2018-05-20                              378135.0\n",
       "3  2018-05-19                              499647.0\n",
       "4  2018-05-18                              420624.0"
      ]
     },
     "execution_count": 32,
     "metadata": {},
     "output_type": "execute_result"
    }
   ],
   "source": [
    "data_wallets = data_wallets.rename(columns={'Value':\"Number of BTC wallets in the network\"})\n",
    "data_wallets.head()"
   ]
  },
  {
   "cell_type": "code",
   "execution_count": 33,
   "metadata": {},
   "outputs": [
    {
     "data": {
      "text/html": [
       "<div>\n",
       "<table border=\"1\" class=\"dataframe\">\n",
       "  <thead>\n",
       "    <tr style=\"text-align: right;\">\n",
       "      <th></th>\n",
       "      <th>Date</th>\n",
       "      <th>BTC price U$</th>\n",
       "    </tr>\n",
       "  </thead>\n",
       "  <tbody>\n",
       "    <tr>\n",
       "      <th>0</th>\n",
       "      <td>2018-05-22</td>\n",
       "      <td>8385.556187</td>\n",
       "    </tr>\n",
       "    <tr>\n",
       "      <th>1</th>\n",
       "      <td>2018-05-21</td>\n",
       "      <td>8507.406667</td>\n",
       "    </tr>\n",
       "    <tr>\n",
       "      <th>2</th>\n",
       "      <td>2018-05-20</td>\n",
       "      <td>8223.288333</td>\n",
       "    </tr>\n",
       "    <tr>\n",
       "      <th>3</th>\n",
       "      <td>2018-05-19</td>\n",
       "      <td>8240.055000</td>\n",
       "    </tr>\n",
       "    <tr>\n",
       "      <th>4</th>\n",
       "      <td>2018-05-18</td>\n",
       "      <td>8106.118333</td>\n",
       "    </tr>\n",
       "  </tbody>\n",
       "</table>\n",
       "</div>"
      ],
      "text/plain": [
       "         Date  BTC price U$\n",
       "0  2018-05-22   8385.556187\n",
       "1  2018-05-21   8507.406667\n",
       "2  2018-05-20   8223.288333\n",
       "3  2018-05-19   8240.055000\n",
       "4  2018-05-18   8106.118333"
      ]
     },
     "execution_count": 33,
     "metadata": {},
     "output_type": "execute_result"
    }
   ],
   "source": [
    "data_price = data_price.rename(columns={'Value':'BTC price U$'})\n",
    "data_price.head()"
   ]
  },
  {
   "cell_type": "code",
   "execution_count": 34,
   "metadata": {},
   "outputs": [
    {
     "data": {
      "text/html": [
       "<div>\n",
       "<table border=\"1\" class=\"dataframe\">\n",
       "  <thead>\n",
       "    <tr style=\"text-align: right;\">\n",
       "      <th></th>\n",
       "      <th>Date</th>\n",
       "      <th>Number of transactions</th>\n",
       "    </tr>\n",
       "  </thead>\n",
       "  <tbody>\n",
       "    <tr>\n",
       "      <th>0</th>\n",
       "      <td>2018-05-22</td>\n",
       "      <td>202647.0</td>\n",
       "    </tr>\n",
       "    <tr>\n",
       "      <th>1</th>\n",
       "      <td>2018-05-21</td>\n",
       "      <td>158663.0</td>\n",
       "    </tr>\n",
       "    <tr>\n",
       "      <th>2</th>\n",
       "      <td>2018-05-20</td>\n",
       "      <td>173274.0</td>\n",
       "    </tr>\n",
       "    <tr>\n",
       "      <th>3</th>\n",
       "      <td>2018-05-19</td>\n",
       "      <td>211496.0</td>\n",
       "    </tr>\n",
       "    <tr>\n",
       "      <th>4</th>\n",
       "      <td>2018-05-18</td>\n",
       "      <td>192683.0</td>\n",
       "    </tr>\n",
       "  </tbody>\n",
       "</table>\n",
       "</div>"
      ],
      "text/plain": [
       "         Date  Number of transactions\n",
       "0  2018-05-22                202647.0\n",
       "1  2018-05-21                158663.0\n",
       "2  2018-05-20                173274.0\n",
       "3  2018-05-19                211496.0\n",
       "4  2018-05-18                192683.0"
      ]
     },
     "execution_count": 34,
     "metadata": {},
     "output_type": "execute_result"
    }
   ],
   "source": [
    "data_transactions = data_transactions.rename(columns={'Value':'Number of transactions'})\n",
    "data_transactions.head()"
   ]
  },
  {
   "cell_type": "code",
   "execution_count": 35,
   "metadata": {},
   "outputs": [
    {
     "data": {
      "text/html": [
       "<div>\n",
       "<table border=\"1\" class=\"dataframe\">\n",
       "  <thead>\n",
       "    <tr style=\"text-align: right;\">\n",
       "      <th></th>\n",
       "      <th>Date</th>\n",
       "      <th>Minning difficult</th>\n",
       "    </tr>\n",
       "  </thead>\n",
       "  <tbody>\n",
       "    <tr>\n",
       "      <th>0</th>\n",
       "      <td>2018-05-22</td>\n",
       "      <td>4.143878e+12</td>\n",
       "    </tr>\n",
       "    <tr>\n",
       "      <th>1</th>\n",
       "      <td>2018-05-21</td>\n",
       "      <td>4.143878e+12</td>\n",
       "    </tr>\n",
       "    <tr>\n",
       "      <th>2</th>\n",
       "      <td>2018-05-20</td>\n",
       "      <td>4.143878e+12</td>\n",
       "    </tr>\n",
       "    <tr>\n",
       "      <th>3</th>\n",
       "      <td>2018-05-19</td>\n",
       "      <td>4.143878e+12</td>\n",
       "    </tr>\n",
       "    <tr>\n",
       "      <th>4</th>\n",
       "      <td>2018-05-18</td>\n",
       "      <td>4.143878e+12</td>\n",
       "    </tr>\n",
       "  </tbody>\n",
       "</table>\n",
       "</div>"
      ],
      "text/plain": [
       "         Date  Minning difficult\n",
       "0  2018-05-22       4.143878e+12\n",
       "1  2018-05-21       4.143878e+12\n",
       "2  2018-05-20       4.143878e+12\n",
       "3  2018-05-19       4.143878e+12\n",
       "4  2018-05-18       4.143878e+12"
      ]
     },
     "execution_count": 35,
     "metadata": {},
     "output_type": "execute_result"
    }
   ],
   "source": [
    "data_difficult = data_difficult.rename(columns={'Value':'Minning difficult'})\n",
    "data_difficult.head()"
   ]
  },
  {
   "cell_type": "code",
   "execution_count": null,
   "metadata": {
    "collapsed": true
   },
   "outputs": [],
   "source": []
  }
 ],
 "metadata": {
  "kernelspec": {
   "display_name": "Python 3",
   "language": "python",
   "name": "python3"
  },
  "language_info": {
   "codemirror_mode": {
    "name": "ipython",
    "version": 3
   },
   "file_extension": ".py",
   "mimetype": "text/x-python",
   "name": "python",
   "nbconvert_exporter": "python",
   "pygments_lexer": "ipython3",
   "version": "3.6.0"
  }
 },
 "nbformat": 4,
 "nbformat_minor": 2
}
